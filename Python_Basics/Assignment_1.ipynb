{
 "cells": [
  {
   "attachments": {},
   "cell_type": "markdown",
   "id": "31dfcef1-4f6a-45ed-b17b-a370d4d3b8da",
   "metadata": {},
   "source": [
    "# Q1. Create one variable containing following type of data:"
   ]
  },
  {
   "attachments": {},
   "cell_type": "markdown",
   "id": "ff2395f3-28e1-4b50-9e22-b0f054c59661",
   "metadata": {},
   "source": [
    "## (i) string"
   ]
  },
  {
   "cell_type": "code",
   "execution_count": 1,
   "id": "fe18ec42-0eaa-4165-8fe4-60efc904aa5b",
   "metadata": {},
   "outputs": [],
   "source": [
    "a_string = 'Aditya'"
   ]
  },
  {
   "attachments": {},
   "cell_type": "markdown",
   "id": "5a312b5a-806a-4593-bae9-aeef0b2b4f6e",
   "metadata": {},
   "source": [
    "## (ii) list"
   ]
  },
  {
   "cell_type": "code",
   "execution_count": 2,
   "id": "54f4f37f-f1b7-4e7e-bc7c-70ef060d605a",
   "metadata": {},
   "outputs": [],
   "source": [
    "a_list = ['Aditya','PWSkills','Data Science Masters', 2.0, 'May', 22]"
   ]
  },
  {
   "attachments": {},
   "cell_type": "markdown",
   "id": "f9f91918-6cc7-4c32-b017-69fb27d5fc67",
   "metadata": {},
   "source": [
    "## (iii) float"
   ]
  },
  {
   "cell_type": "code",
   "execution_count": 3,
   "id": "278c7fb4-638e-4028-9969-339244d2e2bc",
   "metadata": {},
   "outputs": [],
   "source": [
    "a_float = 2.0"
   ]
  },
  {
   "attachments": {},
   "cell_type": "markdown",
   "id": "6a7c2634-b6d1-4bbf-ae2b-a1519416fc19",
   "metadata": {},
   "source": [
    "## (iv) tuple"
   ]
  },
  {
   "attachments": {},
   "cell_type": "markdown",
   "id": "4edf88ee-d94f-4b86-be74-297c6f5f0eaa",
   "metadata": {},
   "source": [
    "# Q2. Given are some following variables containing data:\n",
    "## (i) var1 = ‘ ‘\n",
    "## (ii) var2 = ‘[ DS , ML , Python]’\n",
    "## (iii) var3 = [ ‘DS’ , ’ML’ , ‘Python’ ]\n",
    "## (iv) var4 = 1.\n",
    "## What will be the data type of the above given variable."
   ]
  },
  {
   "cell_type": "code",
   "execution_count": 7,
   "id": "10ac94e8-b249-4042-beb5-e5122ca4a622",
   "metadata": {},
   "outputs": [
    {
     "data": {
      "text/plain": [
       "str"
      ]
     },
     "execution_count": 7,
     "metadata": {},
     "output_type": "execute_result"
    }
   ],
   "source": [
    "var1 = ' '\n",
    "type(var1)"
   ]
  },
  {
   "cell_type": "code",
   "execution_count": 9,
   "id": "c059ec89-fb3c-4c69-9de1-743b53cb4757",
   "metadata": {},
   "outputs": [
    {
     "data": {
      "text/plain": [
       "str"
      ]
     },
     "execution_count": 9,
     "metadata": {},
     "output_type": "execute_result"
    }
   ],
   "source": [
    "var2 = '[ DS , ML , Python]'\n",
    "type(var2)"
   ]
  },
  {
   "cell_type": "code",
   "execution_count": 11,
   "id": "75b5a61f-1da7-4f47-b89f-884a2bd8746b",
   "metadata": {},
   "outputs": [
    {
     "data": {
      "text/plain": [
       "list"
      ]
     },
     "execution_count": 11,
     "metadata": {},
     "output_type": "execute_result"
    }
   ],
   "source": [
    "var3 = [ 'DS' , 'ML' , 'Python' ]\n",
    "type(var3)"
   ]
  },
  {
   "cell_type": "code",
   "execution_count": 12,
   "id": "87835cc6-ba19-4463-8e7b-dbc65afbb778",
   "metadata": {},
   "outputs": [
    {
     "data": {
      "text/plain": [
       "float"
      ]
     },
     "execution_count": 12,
     "metadata": {},
     "output_type": "execute_result"
    }
   ],
   "source": [
    "var4 = 1.\n",
    "type(var4)"
   ]
  },
  {
   "attachments": {},
   "cell_type": "markdown",
   "id": "30e110b9-aabd-4ac0-ae28-bab0518ef239",
   "metadata": {},
   "source": [
    "# Q3. Explain the use of the following operators using an example:"
   ]
  },
  {
   "attachments": {},
   "cell_type": "markdown",
   "id": "2d454314-5fa2-47cf-89b1-9b7e6146d1a5",
   "metadata": {},
   "source": [
    "`/` operator helps in performing divisions"
   ]
  },
  {
   "attachments": {},
   "cell_type": "markdown",
   "id": "90d28c20-5bce-4d95-a4a9-a0b38c71f33c",
   "metadata": {},
   "source": [
    "## (i) /"
   ]
  },
  {
   "cell_type": "code",
   "execution_count": 13,
   "id": "6f1c3d52-1367-4e76-a941-2bce3985bb27",
   "metadata": {},
   "outputs": [
    {
     "data": {
      "text/plain": [
       "12.5"
      ]
     },
     "execution_count": 13,
     "metadata": {},
     "output_type": "execute_result"
    }
   ],
   "source": [
    "100/8"
   ]
  },
  {
   "attachments": {},
   "cell_type": "markdown",
   "id": "9ac6a619-0665-4d4b-b2c0-025679f68ef4",
   "metadata": {},
   "source": [
    "## (ii) %"
   ]
  },
  {
   "attachments": {},
   "cell_type": "markdown",
   "id": "ec105da2-ee70-4169-ab67-06a371fa5e47",
   "metadata": {},
   "source": [
    "`%` helps to obtain the remainder in a division"
   ]
  },
  {
   "cell_type": "code",
   "execution_count": 14,
   "id": "8d5c4b51-7a90-47fe-a3ce-f8f756fff7ae",
   "metadata": {},
   "outputs": [
    {
     "data": {
      "text/plain": [
       "3"
      ]
     },
     "execution_count": 14,
     "metadata": {},
     "output_type": "execute_result"
    }
   ],
   "source": [
    "95%4"
   ]
  },
  {
   "attachments": {},
   "cell_type": "markdown",
   "id": "f7511823-ffa4-441e-9663-33f282898fab",
   "metadata": {},
   "source": [
    "`//` helps to obtain the quotient in a division"
   ]
  },
  {
   "attachments": {},
   "cell_type": "markdown",
   "id": "f19d374c-f3af-428a-b59d-4191437e0428",
   "metadata": {},
   "source": [
    "## (iii) //"
   ]
  },
  {
   "cell_type": "code",
   "execution_count": 15,
   "id": "d8625c1b-1f42-4bf0-a43c-4de431828e0f",
   "metadata": {},
   "outputs": [
    {
     "data": {
      "text/plain": [
       "23"
      ]
     },
     "execution_count": 15,
     "metadata": {},
     "output_type": "execute_result"
    }
   ],
   "source": [
    "95//4"
   ]
  },
  {
   "attachments": {},
   "cell_type": "markdown",
   "id": "2ab58a84-0d3c-4cf1-bb68-9c242a38cdea",
   "metadata": {},
   "source": [
    "## (iv) **"
   ]
  },
  {
   "attachments": {},
   "cell_type": "markdown",
   "id": "43c07f20-2102-4938-9611-7441988fc16a",
   "metadata": {},
   "source": [
    "`**` calculates the nth power of a number"
   ]
  },
  {
   "cell_type": "code",
   "execution_count": 17,
   "id": "716e9b47-389d-4c02-b45e-d6a5b7d9858c",
   "metadata": {},
   "outputs": [
    {
     "data": {
      "text/plain": [
       "9.8596"
      ]
     },
     "execution_count": 17,
     "metadata": {},
     "output_type": "execute_result"
    }
   ],
   "source": [
    "3.14**2"
   ]
  },
  {
   "attachments": {},
   "cell_type": "markdown",
   "id": "70d54c6b-9da7-4768-83e5-577795ae0591",
   "metadata": {},
   "source": [
    "# Q4. Create a list of length 10 of your choice containing multiple types of data. Using for loop print the element and its data type."
   ]
  },
  {
   "cell_type": "code",
   "execution_count": 24,
   "id": "b616ec2d-80cf-4767-b717-ac03f92c5640",
   "metadata": {},
   "outputs": [
    {
     "name": "stdout",
     "output_type": "stream",
     "text": [
      "Element:  Aditya\n",
      "Data Type:  <class 'str'>\n",
      "\n",
      "\n",
      "Element:  started\n",
      "Data Type:  <class 'str'>\n",
      "\n",
      "\n",
      "Element:  on\n",
      "Data Type:  <class 'str'>\n",
      "\n",
      "\n",
      "Element:  22.5\n",
      "Data Type:  <class 'float'>\n",
      "\n",
      "\n",
      "Element:  2023\n",
      "Data Type:  <class 'int'>\n",
      "\n",
      "\n",
      "Element:  6\n",
      "Data Type:  <class 'int'>\n",
      "\n",
      "\n",
      "Element:  7\n",
      "Data Type:  <class 'int'>\n",
      "\n",
      "\n",
      "Element:  98\n",
      "Data Type:  <class 'int'>\n",
      "\n",
      "\n",
      "Element:  (1.7+2.3j)\n",
      "Data Type:  <class 'complex'>\n",
      "\n",
      "\n",
      "Element:  ['Hi', 'there!']\n",
      "Data Type:  <class 'list'>\n",
      "\n",
      "\n"
     ]
    }
   ],
   "source": [
    "a_list_of_length_10 = ['Aditya', 'started', 'on', 22.5, 2023, 6, 7, 98, 1.7+2.3j, ['Hi', 'there!']]\n",
    "for element in a_list_of_length_10:\n",
    "    print('Element: ', element)\n",
    "    print('Data Type: ', type(element))\n",
    "    print('\\n')"
   ]
  },
  {
   "attachments": {},
   "cell_type": "markdown",
   "id": "05bf3935-fff9-44ca-9b28-25793423e835",
   "metadata": {},
   "source": [
    "# Q5. Using a while loop, verify if the number A is purely divisible by number B and if so then how many times it can be divisible."
   ]
  },
  {
   "cell_type": "code",
   "execution_count": 50,
   "id": "156e877c-ecb9-4159-a68e-27df3b550d69",
   "metadata": {},
   "outputs": [
    {
     "name": "stdout",
     "output_type": "stream",
     "text": [
      "Input a number for A:  48\n",
      "Input a number for B:  8\n"
     ]
    },
    {
     "name": "stdout",
     "output_type": "stream",
     "text": [
      "Number of complete divisions:  1\n"
     ]
    }
   ],
   "source": [
    "A = int(input('Input a number for A: '))\n",
    "B = int(input('Input a number for B: '))\n",
    "\n",
    "count = 0\n",
    "while A%B == 0:\n",
    "    A = A//B\n",
    "    rem = A%B\n",
    "    count += 1\n",
    "    if rem == 0:\n",
    "        pass\n",
    "    else:\n",
    "        print('Number of complete divisions: ', count)\n",
    "        break\n",
    "else:\n",
    "    print(A, 'is not divisible by ', B)"
   ]
  },
  {
   "cell_type": "code",
   "execution_count": 51,
   "id": "99c5bd96-22a4-4293-840d-cbc81d4d8d4b",
   "metadata": {},
   "outputs": [
    {
     "name": "stdout",
     "output_type": "stream",
     "text": [
      "0 is divisible by 3\n",
      "1 is not divisible by 3\n",
      "2 is not divisible by 3\n",
      "3 is divisible by 3\n",
      "4 is not divisible by 3\n",
      "5 is not divisible by 3\n",
      "6 is divisible by 3\n",
      "7 is not divisible by 3\n",
      "8 is not divisible by 3\n",
      "9 is divisible by 3\n",
      "10 is not divisible by 3\n",
      "11 is not divisible by 3\n",
      "12 is divisible by 3\n",
      "13 is not divisible by 3\n",
      "14 is not divisible by 3\n",
      "15 is divisible by 3\n",
      "16 is not divisible by 3\n",
      "17 is not divisible by 3\n",
      "18 is divisible by 3\n",
      "19 is not divisible by 3\n",
      "20 is not divisible by 3\n",
      "21 is divisible by 3\n",
      "22 is not divisible by 3\n",
      "23 is not divisible by 3\n",
      "24 is divisible by 3\n"
     ]
    }
   ],
   "source": [
    "a_list_25 = list(range(25))\n",
    "for element in a_list_25:\n",
    "    if element%3==0:\n",
    "        print(element, 'is divisible by 3')\n",
    "    else:\n",
    "        print(element, 'is not divisible by 3')"
   ]
  },
  {
   "attachments": {},
   "cell_type": "markdown",
   "id": "8cbd9d76-d1e0-4018-b07b-cbf9c6c7684a",
   "metadata": {},
   "source": [
    "# Q7. What do you understand about mutable and immutable data types? Give examples for both showing this property."
   ]
  },
  {
   "attachments": {},
   "cell_type": "markdown",
   "id": "9ab865e7-d9c4-40af-b089-25ebb96d41d3",
   "metadata": {},
   "source": [
    "Mutable objects can be changed after they are created, while immutable objects cannot."
   ]
  },
  {
   "cell_type": "code",
   "execution_count": 52,
   "id": "09ae676e-e272-4148-a105-3f2df4bbe5a8",
   "metadata": {},
   "outputs": [
    {
     "data": {
      "text/plain": [
       "['Daredevil', 'Jessica', 'Moonknight']"
      ]
     },
     "execution_count": 52,
     "metadata": {},
     "output_type": "execute_result"
    }
   ],
   "source": [
    "mutable_list = ['Daredevil', 'Punisher', 'Moonknight']\n",
    "mutable_list[1] = 'Jessica'\n",
    "mutable_list"
   ]
  },
  {
   "cell_type": "code",
   "execution_count": null,
   "id": "15f56e11-1647-4182-b462-fb2d991ab61a",
   "metadata": {},
   "outputs": [],
   "source": [
    "immutable = 'Walter White'\n",
    "immutable[]"
   ]
  }
 ],
 "metadata": {
  "kernelspec": {
   "display_name": "Python 3 (ipykernel)",
   "language": "python",
   "name": "python3"
  },
  "language_info": {
   "codemirror_mode": {
    "name": "ipython",
    "version": 3
   },
   "file_extension": ".py",
   "mimetype": "text/x-python",
   "name": "python",
   "nbconvert_exporter": "python",
   "pygments_lexer": "ipython3",
   "version": "3.10.9"
  }
 },
 "nbformat": 4,
 "nbformat_minor": 5
}
